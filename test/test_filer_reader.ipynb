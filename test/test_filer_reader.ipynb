{
 "cells": [
  {
   "cell_type": "code",
   "execution_count": 1,
   "id": "0007d453-f376-4c32-b4ce-f82b5e7174f2",
   "metadata": {},
   "outputs": [],
   "source": [
    "import os\n",
    "import sys\n",
    "module_path = os.path.abspath(os.path.join('..'))\n",
    "if module_path not in sys.path:\n",
    "    sys.path.append(module_path)"
   ]
  },
  {
   "cell_type": "code",
   "execution_count": 2,
   "id": "55021b50-e30a-4a75-9136-3b75a04a252a",
   "metadata": {},
   "outputs": [],
   "source": [
    "from custom_bert.module import file_reader"
   ]
  },
  {
   "cell_type": "code",
   "execution_count": 3,
   "id": "afc6706b-73b7-4f54-8b80-5aefb5834867",
   "metadata": {},
   "outputs": [],
   "source": [
    "TEST_PATH = '/data/realive333/kakuyomu-dataset/tsv/first-match-scatter/42/train.json'"
   ]
  },
  {
   "cell_type": "code",
   "execution_count": 4,
   "id": "75a3446b-d135-4f1b-8524-baab83e6c1dc",
   "metadata": {},
   "outputs": [
    {
     "name": "stderr",
     "output_type": "stream",
     "text": [
      "100%|███████████████████████████████████████████████████████████████████████████| 2685/2685 [00:00<00:00, 528966.94it/s]"
     ]
    },
    {
     "name": "stdout",
     "output_type": "stream",
     "text": [
      "Work contents length should be 5, is 4\n",
      "Work contents length should be 5, is 3\n",
      "Work contents length should be 5, is 4\n",
      "Work contents length should be 5, is 4\n",
      "Work contents length should be 5, is 2\n",
      "Work contents length should be 5, is 4\n",
      "Work contents length should be 5, is 3\n",
      "Work contents length should be 5, is 2\n",
      "Work contents length should be 5, is 4\n",
      "Work contents length should be 5, is 4\n",
      "Work contents length should be 5, is 4\n",
      "Work contents length should be 5, is 3\n",
      "Work contents length should be 5, is 3\n",
      "Work contents length should be 5, is 3\n",
      "Work contents length should be 5, is 3\n",
      "Work contents length should be 5, is 2\n"
     ]
    },
    {
     "name": "stderr",
     "output_type": "stream",
     "text": [
      "\n"
     ]
    },
    {
     "data": {
      "text/html": [
       "<div>\n",
       "<style scoped>\n",
       "    .dataframe tbody tr th:only-of-type {\n",
       "        vertical-align: middle;\n",
       "    }\n",
       "\n",
       "    .dataframe tbody tr th {\n",
       "        vertical-align: top;\n",
       "    }\n",
       "\n",
       "    .dataframe thead th {\n",
       "        text-align: right;\n",
       "    }\n",
       "</style>\n",
       "<table border=\"1\" class=\"dataframe\">\n",
       "  <thead>\n",
       "    <tr style=\"text-align: right;\">\n",
       "      <th></th>\n",
       "      <th>label</th>\n",
       "      <th>text</th>\n",
       "    </tr>\n",
       "  </thead>\n",
       "  <tbody>\n",
       "    <tr>\n",
       "      <th>0</th>\n",
       "      <td>1</td>\n",
       "      <td>[能力 が ある 』 と か 『 オレ は 一般 人 と は 違う 才能 を 持っ て いる...</td>\n",
       "    </tr>\n",
       "    <tr>\n",
       "      <th>1</th>\n",
       "      <td>0</td>\n",
       "      <td>[能力 に よっ て 『 F ランク 』 なんて いう ランク 付け を さ れ て いる ...</td>\n",
       "    </tr>\n",
       "    <tr>\n",
       "      <th>2</th>\n",
       "      <td>0</td>\n",
       "      <td>[俺 は 制服 を ドロドロ に 汚し 、 水 を 滴ら せ ながら 帰り道 を 小走り に...</td>\n",
       "    </tr>\n",
       "    <tr>\n",
       "      <th>3</th>\n",
       "      <td>1</td>\n",
       "      <td>[だろう あぁ 、 … … なんて こと だ 見知ら ぬ 部屋 全裸 の ぼく 記憶 喪失 ...</td>\n",
       "    </tr>\n",
       "    <tr>\n",
       "      <th>4</th>\n",
       "      <td>0</td>\n",
       "      <td>[能力 と か 自分 に ない の か な 、 と ふと 考え た あれ ば あの 時点 で...</td>\n",
       "    </tr>\n",
       "    <tr>\n",
       "      <th>...</th>\n",
       "      <td>...</td>\n",
       "      <td>...</td>\n",
       "    </tr>\n",
       "    <tr>\n",
       "      <th>2664</th>\n",
       "      <td>1</td>\n",
       "      <td>[椅子 に 拘束 さ れ て いる 自分 の 手 を 眺め て みる と 確か に 色 が ...</td>\n",
       "    </tr>\n",
       "    <tr>\n",
       "      <th>2665</th>\n",
       "      <td>0</td>\n",
       "      <td>[引っ越し て き て 今日 で 一 ヶ月 に なる 色々 あっ た が ようやく 落ち着い...</td>\n",
       "    </tr>\n",
       "    <tr>\n",
       "      <th>2666</th>\n",
       "      <td>1</td>\n",
       "      <td>[能力 の 事 は 聞い た 事 あり ます か お 互い の 顔 を 見合わせ ながら 、...</td>\n",
       "    </tr>\n",
       "    <tr>\n",
       "      <th>2667</th>\n",
       "      <td>1</td>\n",
       "      <td>[能力 は 相 変わら ず です ね こんな 古ぼけ た 絵 、 １ 枚 に し たって 、...</td>\n",
       "    </tr>\n",
       "    <tr>\n",
       "      <th>2668</th>\n",
       "      <td>1</td>\n",
       "      <td>[能力 が 高い と 実感 する 時 、 文化 祭 で あまり に も みんな の 出し物 ...</td>\n",
       "    </tr>\n",
       "  </tbody>\n",
       "</table>\n",
       "<p>2669 rows × 2 columns</p>\n",
       "</div>"
      ],
      "text/plain": [
       "      label                                               text\n",
       "0         1  [能力 が ある 』 と か 『 オレ は 一般 人 と は 違う 才能 を 持っ て いる...\n",
       "1         0  [能力 に よっ て 『 F ランク 』 なんて いう ランク 付け を さ れ て いる ...\n",
       "2         0  [俺 は 制服 を ドロドロ に 汚し 、 水 を 滴ら せ ながら 帰り道 を 小走り に...\n",
       "3         1  [だろう あぁ 、 … … なんて こと だ 見知ら ぬ 部屋 全裸 の ぼく 記憶 喪失 ...\n",
       "4         0  [能力 と か 自分 に ない の か な 、 と ふと 考え た あれ ば あの 時点 で...\n",
       "...     ...                                                ...\n",
       "2664      1  [椅子 に 拘束 さ れ て いる 自分 の 手 を 眺め て みる と 確か に 色 が ...\n",
       "2665      0  [引っ越し て き て 今日 で 一 ヶ月 に なる 色々 あっ た が ようやく 落ち着い...\n",
       "2666      1  [能力 の 事 は 聞い た 事 あり ます か お 互い の 顔 を 見合わせ ながら 、...\n",
       "2667      1  [能力 は 相 変わら ず です ね こんな 古ぼけ た 絵 、 １ 枚 に し たって 、...\n",
       "2668      1  [能力 が 高い と 実感 する 時 、 文化 祭 で あまり に も みんな の 出し物 ...\n",
       "\n",
       "[2669 rows x 2 columns]"
      ]
     },
     "execution_count": 4,
     "metadata": {},
     "output_type": "execute_result"
    }
   ],
   "source": [
    "file_reader.getDataframeByPath(TEST_PATH, 5)"
   ]
  },
  {
   "cell_type": "code",
   "execution_count": null,
   "id": "0fb06333-b296-4b6c-a21e-2c12f52db330",
   "metadata": {},
   "outputs": [],
   "source": []
  }
 ],
 "metadata": {
  "kernelspec": {
   "display_name": "Python 3 (ipykernel)",
   "language": "python",
   "name": "python3"
  },
  "language_info": {
   "codemirror_mode": {
    "name": "ipython",
    "version": 3
   },
   "file_extension": ".py",
   "mimetype": "text/x-python",
   "name": "python",
   "nbconvert_exporter": "python",
   "pygments_lexer": "ipython3",
   "version": "3.9.12"
  }
 },
 "nbformat": 4,
 "nbformat_minor": 5
}
