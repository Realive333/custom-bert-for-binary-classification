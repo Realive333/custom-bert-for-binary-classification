{
 "cells": [
  {
   "cell_type": "code",
   "execution_count": 1,
   "id": "f0b7af30-cc47-4d71-8eba-62e8f7b91470",
   "metadata": {},
   "outputs": [],
   "source": [
    "import os\n",
    "import sys\n",
    "module_path = os.path.abspath(os.path.join('..'))\n",
    "if module_path not in sys.path:\n",
    "    sys.path.append(module_path)"
   ]
  },
  {
   "cell_type": "code",
   "execution_count": 2,
   "id": "7af0f5af-74e2-478d-a993-328495f37959",
   "metadata": {},
   "outputs": [],
   "source": [
    "from transformers import AutoTokenizer\n",
    "from custom_bert.module import file_reader, custom_dataset"
   ]
  },
  {
   "cell_type": "code",
   "execution_count": 3,
   "id": "1dd81a97-6e5b-410e-b096-e0c6a8ce3985",
   "metadata": {},
   "outputs": [
    {
     "name": "stderr",
     "output_type": "stream",
     "text": [
      "100%|███████████████████████████████████████████████████████████████████████████| 2685/2685 [00:00<00:00, 438642.45it/s]"
     ]
    },
    {
     "name": "stdout",
     "output_type": "stream",
     "text": [
      "Work contents length should be 5, is 4\n",
      "Work contents length should be 5, is 3\n",
      "Work contents length should be 5, is 4\n",
      "Work contents length should be 5, is 4\n",
      "Work contents length should be 5, is 2\n",
      "Work contents length should be 5, is 4\n",
      "Work contents length should be 5, is 3\n",
      "Work contents length should be 5, is 2\n",
      "Work contents length should be 5, is 4\n",
      "Work contents length should be 5, is 4\n",
      "Work contents length should be 5, is 4\n",
      "Work contents length should be 5, is 3\n",
      "Work contents length should be 5, is 3\n",
      "Work contents length should be 5, is 3\n",
      "Work contents length should be 5, is 3\n",
      "Work contents length should be 5, is 2\n"
     ]
    },
    {
     "name": "stderr",
     "output_type": "stream",
     "text": [
      "\n"
     ]
    }
   ],
   "source": [
    "TEST_PATH = '/data/realive333/kakuyomu-dataset/tsv/first-match-scatter/42/train.json'\n",
    "test = file_reader.getDataframeByPath(TEST_PATH, 5)"
   ]
  },
  {
   "cell_type": "code",
   "execution_count": 4,
   "id": "231e640b-93d7-41b1-adc4-0fc00cdc3af0",
   "metadata": {},
   "outputs": [],
   "source": [
    "tokenizer = AutoTokenizer.from_pretrained('cl-tohoku/bert-base-japanese-whole-word-masking')"
   ]
  },
  {
   "cell_type": "code",
   "execution_count": 5,
   "id": "bc6472f8-9c74-4a91-87b1-a71dd85015b8",
   "metadata": {},
   "outputs": [],
   "source": [
    "test_dataset = custom_dataset.getDatasetByDataframe(test, tokenizer)"
   ]
  },
  {
   "cell_type": "code",
   "execution_count": 6,
   "id": "64b6cc3d-0d12-4993-8ea8-fbad25471d25",
   "metadata": {},
   "outputs": [
    {
     "data": {
      "text/plain": [
       "[2, 75, 6, 10772, 7913, 13, 69, 28457, 28463, 14217, 5, 594, 14, 5734, 16]"
      ]
     },
     "execution_count": 6,
     "metadata": {},
     "output_type": "execute_result"
    }
   ],
   "source": [
    "test_dataset[30]['input_ids'][0][:15]"
   ]
  },
  {
   "cell_type": "code",
   "execution_count": 8,
   "id": "9c7a2b5a-8fe7-4a7f-b013-cb452a81d73b",
   "metadata": {},
   "outputs": [
    {
     "data": {
      "text/plain": [
       "<custom_bert.module.custom_dataset.ModDataset at 0x7fb190f399d0>"
      ]
     },
     "execution_count": 8,
     "metadata": {},
     "output_type": "execute_result"
    }
   ],
   "source": [
    "test_dataset"
   ]
  }
 ],
 "metadata": {
  "kernelspec": {
   "display_name": "Python 3 (ipykernel)",
   "language": "python",
   "name": "python3"
  },
  "language_info": {
   "codemirror_mode": {
    "name": "ipython",
    "version": 3
   },
   "file_extension": ".py",
   "mimetype": "text/x-python",
   "name": "python",
   "nbconvert_exporter": "python",
   "pygments_lexer": "ipython3",
   "version": "3.9.12"
  }
 },
 "nbformat": 4,
 "nbformat_minor": 5
}
